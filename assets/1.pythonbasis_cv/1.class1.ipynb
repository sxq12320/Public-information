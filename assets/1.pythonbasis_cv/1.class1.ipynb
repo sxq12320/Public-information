{
 "cells": [
  {
   "cell_type": "code",
   "execution_count": 1,
   "id": "428a4566",
   "metadata": {},
   "outputs": [],
   "source": [
    "import cv2 as cv"
   ]
  }
 ],
 "metadata": {
  "kernelspec": {
   "display_name": "DL",
   "language": "python",
   "name": "dl"
  },
  "language_info": {
   "codemirror_mode": {
    "name": "ipython",
    "version": 3
   },
   "file_extension": ".py",
   "mimetype": "text/x-python",
   "name": "python",
   "nbconvert_exporter": "python",
   "pygments_lexer": "ipython3",
   "version": "3.9.23"
  }
 },
 "nbformat": 4,
 "nbformat_minor": 5
}
