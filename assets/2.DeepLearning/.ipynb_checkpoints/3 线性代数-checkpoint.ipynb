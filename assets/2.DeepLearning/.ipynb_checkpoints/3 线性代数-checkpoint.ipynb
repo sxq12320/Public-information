{
 "cells": [
  {
   "cell_type": "code",
   "execution_count": 55,
   "id": "108b7831",
   "metadata": {},
   "outputs": [],
   "source": [
    "import torch\n",
    "import cv2 as cv\n",
    "import matplotlib.pyplot as plt\n",
    "import numpy as np"
   ]
  },
  {
   "cell_type": "code",
   "execution_count": 56,
   "id": "a2b84d61",
   "metadata": {},
   "outputs": [
    {
     "data": {
      "text/plain": [
       "(tensor([3.]), torch.Size([1]))"
      ]
     },
     "execution_count": 56,
     "metadata": {},
     "output_type": "execute_result"
    }
   ],
   "source": [
    "x = torch.tensor([3.0])\n",
    "x , x.shape"
   ]
  },
  {
   "cell_type": "code",
   "execution_count": 57,
   "id": "28b65ed6",
   "metadata": {},
   "outputs": [
    {
     "data": {
      "text/plain": [
       "(tensor([0, 1, 2, 3]), torch.Size([4]))"
      ]
     },
     "execution_count": 57,
     "metadata": {},
     "output_type": "execute_result"
    }
   ],
   "source": [
    "y = torch.arange(4)\n",
    "y ,  y.shape"
   ]
  },
  {
   "cell_type": "code",
   "execution_count": 58,
   "id": "9a81195c",
   "metadata": {},
   "outputs": [
    {
     "data": {
      "text/plain": [
       "(tensor(0), tensor(1), tensor(2), tensor(3))"
      ]
     },
     "execution_count": 58,
     "metadata": {},
     "output_type": "execute_result"
    }
   ],
   "source": [
    "y[0] , y[1] , y[2] , y[3] "
   ]
  },
  {
   "cell_type": "code",
   "execution_count": 59,
   "id": "3ad68151",
   "metadata": {},
   "outputs": [
    {
     "data": {
      "text/plain": [
       "(tensor([[1., 1., 1., 1., 1.],\n",
       "         [1., 1., 1., 1., 1.],\n",
       "         [1., 1., 1., 1., 1.],\n",
       "         [1., 1., 1., 1., 1.]]),\n",
       " tensor([[0., 0., 0., 0., 0.],\n",
       "         [0., 0., 0., 0., 0.],\n",
       "         [0., 0., 0., 0., 0.],\n",
       "         [0., 0., 0., 0., 0.]]),\n",
       " tensor([[ 0,  1,  2,  3,  4],\n",
       "         [ 5,  6,  7,  8,  9],\n",
       "         [10, 11, 12, 13, 14],\n",
       "         [15, 16, 17, 18, 19]]))"
      ]
     },
     "execution_count": 59,
     "metadata": {},
     "output_type": "execute_result"
    }
   ],
   "source": [
    "A = torch.ones(20).reshape(4,5)\n",
    "B = torch.zeros(20).reshape(4,5)  \n",
    "C = torch.arange(20).reshape(4,5) \n",
    "A , B , C"
   ]
  },
  {
   "cell_type": "code",
   "execution_count": 60,
   "id": "05c80e9b",
   "metadata": {},
   "outputs": [
    {
     "data": {
      "text/plain": [
       "(tensor([3.]),\n",
       " tensor([1.]),\n",
       " tensor([4.]),\n",
       " tensor([2.]),\n",
       " tensor([3.]),\n",
       " tensor([3.]))"
      ]
     },
     "execution_count": 60,
     "metadata": {},
     "output_type": "execute_result"
    }
   ],
   "source": [
    "a = torch.tensor([3.0])\n",
    "b = torch.tensor([1.0])\n",
    "c = a + b\n",
    "d = a - b\n",
    "e = a * b\n",
    "f = a / b\n",
    "a , b , c , d , e , f "
   ]
  },
  {
   "cell_type": "code",
   "execution_count": 62,
   "id": "81cce49c",
   "metadata": {
    "scrolled": true
   },
   "outputs": [
    {
     "data": {
      "text/plain": [
       "(tensor([0, 1, 2, 3, 4]), tensor([0, 1, 2, 3, 4]), tensor(30))"
      ]
     },
     "execution_count": 62,
     "metadata": {},
     "output_type": "execute_result"
    }
   ],
   "source": [
    "x = torch.arange(5)\n",
    "y = torch.arange(5)\n",
    "z = torch.dot(x,y)\n",
    "x , y , z "
   ]
  },
  {
   "cell_type": "code",
   "execution_count": 67,
   "id": "43adc499",
   "metadata": {},
   "outputs": [
    {
     "data": {
      "text/plain": [
       "(tensor([0, 1, 2, 3, 4]),\n",
       " tensor([0, 1, 2, 3, 4]),\n",
       " tensor([0, 1, 2, 3, 4]),\n",
       " tensor([0, 1, 2, 3, 4]),\n",
       " tensor(30),\n",
       " tensor(30))"
      ]
     },
     "execution_count": 67,
     "metadata": {},
     "output_type": "execute_result"
    }
   ],
   "source": [
    "x , x.T ,  y , y.T , z , z.T"
   ]
  },
  {
   "cell_type": "code",
   "execution_count": 69,
   "id": "e39d9ff7",
   "metadata": {},
   "outputs": [
    {
     "data": {
      "text/plain": [
       "(tensor([[ 0,  1,  2,  3,  4],\n",
       "         [ 5,  6,  7,  8,  9],\n",
       "         [10, 11, 12, 13, 14],\n",
       "         [15, 16, 17, 18, 19]]),\n",
       " tensor([[ 0,  5, 10, 15],\n",
       "         [ 1,  6, 11, 16],\n",
       "         [ 2,  7, 12, 17],\n",
       "         [ 3,  8, 13, 18],\n",
       "         [ 4,  9, 14, 19]]))"
      ]
     },
     "execution_count": 69,
     "metadata": {},
     "output_type": "execute_result"
    }
   ],
   "source": [
    "C , C.T"
   ]
  },
  {
   "cell_type": "code",
   "execution_count": 83,
   "id": "704e763e",
   "metadata": {},
   "outputs": [
    {
     "data": {
      "text/plain": [
       "(tensor([[ 0,  1,  2,  3],\n",
       "         [ 4,  5,  6,  7],\n",
       "         [ 8,  9, 10, 11]]),\n",
       " tensor([[0., 0., 0., 0.],\n",
       "         [0., 0., 0., 0.],\n",
       "         [0., 0., 0., 0.]]),\n",
       " tensor([[1, 2, 3],\n",
       "         [9, 8, 7],\n",
       "         [2, 5, 3],\n",
       "         [2, 5, 6]]),\n",
       " tensor([0, 1, 2, 3]),\n",
       " tensor([1., 1., 1., 1.]),\n",
       " tensor([0., 0., 0., 0.]),\n",
       " tensor([14, 38, 62]),\n",
       " tensor([[ 19,  33,  31],\n",
       "         [ 75, 113, 107],\n",
       "         [131, 193, 183]]))"
      ]
     },
     "execution_count": 83,
     "metadata": {},
     "output_type": "execute_result"
    }
   ],
   "source": [
    "A = torch.arange(12).reshape(3,4)\n",
    "B = torch.zeros(12).reshape(3,4)\n",
    "C = torch.tensor([[1,2,3],[9,8,7],[2,5,3],[2,5,6]])\n",
    "x = torch.arange(4)\n",
    "y = torch.ones(4)\n",
    "z = torch.zeros(4)\n",
    "\n",
    "e1 = torch.mv(A,x)\n",
    "e2 = torch.mm(A,C)\n",
    "\n",
    "A , B , C ,x , y , z , e1 ,e2\n",
    "\n"
   ]
  },
  {
   "cell_type": "code",
   "execution_count": null,
   "id": "b8afc9bd",
   "metadata": {},
   "outputs": [],
   "source": []
  },
  {
   "cell_type": "code",
   "execution_count": null,
   "id": "7faf1a6a",
   "metadata": {},
   "outputs": [],
   "source": []
  }
 ],
 "metadata": {
  "kernelspec": {
   "display_name": "DL",
   "language": "python",
   "name": "dl"
  },
  "language_info": {
   "codemirror_mode": {
    "name": "ipython",
    "version": 3
   },
   "file_extension": ".py",
   "mimetype": "text/x-python",
   "name": "python",
   "nbconvert_exporter": "python",
   "pygments_lexer": "ipython3",
   "version": "3.9.23"
  }
 },
 "nbformat": 4,
 "nbformat_minor": 5
}
