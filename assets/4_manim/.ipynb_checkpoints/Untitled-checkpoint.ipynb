{
 "cells": [
  {
   "cell_type": "code",
   "execution_count": 1,
   "id": "1f23ccba",
   "metadata": {},
   "outputs": [],
   "source": [
    "from manim import *"
   ]
  },
  {
   "cell_type": "code",
   "execution_count": 2,
   "id": "80f30206",
   "metadata": {},
   "outputs": [],
   "source": [
    "config.frame_width = 32\n",
    "config.frame_height = 18\n",
    "config.background_color = BLACK\n",
    "config.pixel_height = 1080\n",
    "config.pixel_width = 1920"
   ]
  },
  {
   "cell_type": "code",
   "execution_count": 3,
   "id": "4b28940e",
   "metadata": {},
   "outputs": [],
   "source": [
    "class Class1(Scene):\n",
    "    def construct(self):\n",
    "        plane = NumberPlane(x_range=(-100,100,1),y_range=(-100,100,1))\n",
    "        self.add(plane)"
   ]
  },
  {
   "cell_type": "code",
   "execution_count": null,
   "id": "0c20ce5e",
   "metadata": {},
   "outputs": [],
   "source": [
    "import os\n",
    "os.system('manim -qh -p project.py Class1')"
   ]
  }
 ],
 "metadata": {
  "kernelspec": {
   "display_name": "manim",
   "language": "python",
   "name": "manim"
  },
  "language_info": {
   "codemirror_mode": {
    "name": "ipython",
    "version": 3
   },
   "file_extension": ".py",
   "mimetype": "text/x-python",
   "name": "python",
   "nbconvert_exporter": "python",
   "pygments_lexer": "ipython3",
   "version": "3.11.7"
  }
 },
 "nbformat": 4,
 "nbformat_minor": 5
}
